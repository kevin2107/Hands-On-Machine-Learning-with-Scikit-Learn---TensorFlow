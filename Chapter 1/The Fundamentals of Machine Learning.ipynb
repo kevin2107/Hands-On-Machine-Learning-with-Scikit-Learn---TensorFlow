{
 "cells": [
  {
   "cell_type": "markdown",
   "metadata": {},
   "source": [
    "## The Machine Learning Landscape\n",
    "\n",
    "**Four major categories : Supervised learning, unsupervised learning, semisupervised learning, and Reinforcement learning.**\n",
    "\n",
    "**Supervised Learning** - The training data you feed to the algorithm includes the desired solutions, called *labels*"
   ]
  },
  {
   "cell_type": "markdown",
   "metadata": {},
   "source": [
    "**Regression** - predicting a target numberic value, such as the price of a car, given a set of features.\n",
    "\n",
    "1. *Atrribute* is a data type while a *feature* has several meanings depending on context, but generall means an attribute plus its value. Many people use the words attribute and feature interchangeable.\n",
    "\n",
    "*Logistic Regression* is commonly used for classification as it can output a value that corresponds to the porbability of belonging to a given class. (e.g., 20% chance of being spam)\n",
    "\n",
    "**Most Important unsupervised learning algorithms**\n",
    "\n",
    "* Clustering\n",
    "    - k-Means\n",
    "    - Hierarchical Cluster Analysis(HCA)\n",
    "    - Expectation Maximization\n",
    "\n",
    "\n",
    "* Visualization and dimensionality reduction\n",
    "    - Principal Component Analysis(PCA)\n",
    "    - Kernal PCA\n",
    "    - Locally-Linear Embedding(LLE)\n",
    "    - t-distributed Stochastic Neighbor Embedding(t-SNE)\n",
    "\n",
    "\n",
    "* Association rule learning\n",
    "    - Apriori\n",
    "    - Eclat\n",
    "----\n",
    "\n",
    "**Dimensionality reduction** - Simplifying data without losing too much information. E.g, a car's milage may be very correlated with its age, so the dimensionality reduction algorithm will merge them into one feature that represents the car's wear and tear.\n",
    "\n",
    "* It is often a good idea to try to reduce the dimension of your training data, using a dimensionality reduction algoritem before you feed it to another machine learning algorithm. It will run much faster, the data will take up less disk and memory space, and in some cases it may also perform better.\n",
    "\n",
    "**Anomaly detection** - Important unsupervised task. E.g, detecting unusual credit card transactions to prevent fraud, catching manufacturing defects, or automatically removing outliers from a dataset before feeding it to another learning algorithm.\n",
    "\n",
    "**association rule learning** - The goal is to dig into large amounts of data and discover interesting relations between attributes. E.g, suppose you own a supermarket. Running an association rule on your sales logs may reveal that people who purchase barbecue sauce and potato chips also tend to buy steak."
   ]
  },
  {
   "cell_type": "markdown",
   "metadata": {},
   "source": [
    "**Semisupervised Learning ** Algorithms that deal with partially labeled training data.\n",
    "\n",
    "**Reinforcement Learning** - The learning system called an agent can observe the environment. select and perform actions, and get rewards in return. (or penalties in the form of negative rewards) It must learn by itself what is the best strategy, called a policy, to get the most reward over time. \n",
    "\n",
    "**Batch learning**  system incapable of learning incrementally, must be trained using all available data. This is usually done offline. This is called *offline learning*. Not good for reactive situations or situations where you need to train everyday on new data.\n",
    "\n",
    "**Online learning** - you train the system incrementally by feeding it data instances sequentially, either individually or by small groups called mini-batches. Great for continuous data e.g., stock prices. Great to train systems on huge datasets that cannot fit in one machine's main memory this is called *out of core learning*.\n",
    "\n",
    "**Learning rate** - How fast the machine should adapt to changing data.\n",
    "\n",
    "> If you set a high learning rate, then your system will rapidly adapt to new data, but it will also tend to quickly forget the old data. Conversely, if you set a low learning rate, the system will have more inertia; that is, it will learn more slowly, but it will also be less sensitive to noise in the new data or to sequences of nonrepresentative data points.\n",
    "\n",
    "* A big challenge with online learning is that if bad data is fed to the system, the system's performance will gradually decline. E.g, data from a malfunctioning sensor on a robot. \n",
    "\n",
    "**generalize** - given a number of training examples, the system needs to be able to generalize to examples it has never seen before. Two main approaches to generalization *instance-based learning and model-based learning*\n",
    "\n",
    "**Instance-based learning** -  The system learns by examples by heart, then generalizes to new cases using a similarity measure.\n",
    "\n",
    "**Model-based learning** - A way to generalize from a set of examples and building a model from them."
   ]
  },
  {
   "cell_type": "code",
   "execution_count": 78,
   "metadata": {
    "collapsed": true
   },
   "outputs": [],
   "source": [
    "import matplotlib\n",
    "import matplotlib.pyplot as plt\n",
    "import numpy as np\n",
    "import pandas as pd\n",
    "import sklearn\n",
    "import sklearn.linear_model\n",
    "import sklearn.neighbors"
   ]
  },
  {
   "cell_type": "code",
   "execution_count": 83,
   "metadata": {
    "collapsed": false
   },
   "outputs": [
    {
     "data": {
      "image/png": "[encoded data removed]",
      "text/plain": [
       "<matplotlib.figure.Figure at 0x2f263d8b630>"
      ]
     },
     "metadata": {},
     "output_type": "display_data"
    },
    {
     "name": "stdout",
     "output_type": "stream",
     "text": [
      "[[ 6.28653635]]\n"
     ]
    }
   ],
   "source": [
    "#Load the data\n",
    "stats = pd.read_csv(\"GDPvslifesatisfaction.csv\", delimiter=',', thousands=',')\n",
    "\n",
    "#Prepare the data\n",
    "\n",
    "X = np.c_[stats[\"GDP Per Capita\"]]\n",
    "Y = np.c_[stats[\"Life Satisfaction\"]]\n",
    "\n",
    "#Visualize the data\n",
    "stats.plot(kind='scatter', x=\"GDP Per Capita\", y=\"Life Satisfaction\")\n",
    "plt.show()\n",
    "\n",
    "#Select a linear model\n",
    "model = sklearn.linear_model.LinearRegression()\n",
    "\n",
    "#Train the model\n",
    "model.fit(X, y)\n",
    "\n",
    "#Make a prediction for Cyprus\n",
    "x_new = [[22587]]\n",
    "print(model.predict(x_new))"
   ]
  },
  {
   "cell_type": "code",
   "execution_count": 84,
   "metadata": {
    "collapsed": false
   },
   "outputs": [
    {
     "data": {
      "image/png": "[encoded data removed]",
      "text/plain": [
       "<matplotlib.figure.Figure at 0x2f2632e1f60>"
      ]
     },
     "metadata": {},
     "output_type": "display_data"
    },
    {
     "name": "stdout",
     "output_type": "stream",
     "text": [
      "[[ 5.76666667]]\n"
     ]
    }
   ],
   "source": [
    "#Load the data\n",
    "stats = pd.read_csv(\"GDPvslifesatisfaction.csv\", delimiter=',', thousands=',')\n",
    "\n",
    "#Prepare the data\n",
    "\n",
    "X = np.c_[stats[\"GDP Per Capita\"]]\n",
    "Y = np.c_[stats[\"Life Satisfaction\"]]\n",
    "\n",
    "#Visualize the data\n",
    "stats.plot(kind='scatter', x=\"GDP Per Capita\", y=\"Life Satisfaction\")\n",
    "plt.show()\n",
    "\n",
    "#Select a linear model\n",
    "model = sklearn.neighbors.KNeighborsRegressor(n_neighbors=3)\n",
    "\n",
    "#Train the model\n",
    "model.fit(X, y)\n",
    "\n",
    "#Make a prediction for Cyprus\n",
    "x_new = [[22587]]\n",
    "print(model.predict(x_new))"
   ]
  },
  {
   "cell_type": "code",
   "execution_count": null,
   "metadata": {
    "collapsed": true
   },
   "outputs": [],
   "source": [
    "\n"
   ]
  }
 ],
 "metadata": {
  "kernelspec": {
   "display_name": "Python 3",
   "language": "python",
   "name": "python3"
  },
  "language_info": {
   "codemirror_mode": {
    "name": "ipython",
    "version": 3
   },
   "file_extension": ".py",
   "mimetype": "text/x-python",
   "name": "python",
   "nbconvert_exporter": "python",
   "pygments_lexer": "ipython3",
   "version": "3.6.0"
  }
 },
 "nbformat": 4,
 "nbformat_minor": 2
}
